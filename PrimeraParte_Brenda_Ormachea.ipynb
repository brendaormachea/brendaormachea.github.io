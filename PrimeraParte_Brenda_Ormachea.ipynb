{
  "cells": [
    {
      "cell_type": "markdown",
      "metadata": {
        "id": "view-in-github",
        "colab_type": "text"
      },
      "source": [
        "<a href=\"https://colab.research.google.com/github/brendaormachea/brendaormachea.github.io/blob/main/PrimeraParte_Brenda_Ormachea.ipynb\" target=\"_parent\"><img src=\"https://colab.research.google.com/assets/colab-badge.svg\" alt=\"Open In Colab\"/></a>"
      ]
    },
    {
      "cell_type": "markdown",
      "source": [
        "#CREACIÓN DEL NOTEBOOK Y CONEXIÓN CON EL FICHERO CSV."
      ],
      "metadata": {
        "id": "d8WGuSuF4M9N"
      }
    },
    {
      "cell_type": "code",
      "execution_count": 26,
      "metadata": {
        "colab": {
          "base_uri": "https://localhost:8080/"
        },
        "id": "KiQADdwH4XGa",
        "outputId": "3a805bf7-5760-4e2d-bb13-4cedcae1979f"
      },
      "outputs": [
        {
          "output_type": "stream",
          "name": "stdout",
          "text": [
            "Drive already mounted at /content/drive; to attempt to forcibly remount, call drive.mount(\"/content/drive\", force_remount=True).\n"
          ]
        }
      ],
      "source": [
        "from google.colab import drive\n",
        "drive.mount('/content/drive')"
      ]
    },
    {
      "cell_type": "code",
      "source": [
        "!ls"
      ],
      "metadata": {
        "colab": {
          "base_uri": "https://localhost:8080/"
        },
        "id": "iDLmSIk34clL",
        "outputId": "fec5103c-3179-4192-f839-cfb766bac0c5"
      },
      "execution_count": 27,
      "outputs": [
        {
          "output_type": "stream",
          "name": "stdout",
          "text": [
            "drive  sample_data\n"
          ]
        }
      ]
    },
    {
      "cell_type": "code",
      "source": [
        "!apt-get install openjdk-8-jdk-headless -qq > /dev/null"
      ],
      "metadata": {
        "id": "MK7mASur4f9i"
      },
      "execution_count": 28,
      "outputs": []
    },
    {
      "cell_type": "code",
      "source": [
        "!wget -q https://dlcdn.apache.org/spark/spark-3.5.5/spark-3.5.5-bin-hadoop3.tgz"
      ],
      "metadata": {
        "id": "hRQWtvMU4mWu"
      },
      "execution_count": 29,
      "outputs": []
    },
    {
      "cell_type": "code",
      "source": [
        "!ls"
      ],
      "metadata": {
        "colab": {
          "base_uri": "https://localhost:8080/"
        },
        "id": "EJdejdIN4pSw",
        "outputId": "2e18f3e5-e433-45ed-dda6-ac9ee72da6c7"
      },
      "execution_count": 30,
      "outputs": [
        {
          "output_type": "stream",
          "name": "stdout",
          "text": [
            "drive  sample_data  spark-3.5.5-bin-hadoop3.tgz\n"
          ]
        }
      ]
    },
    {
      "cell_type": "code",
      "source": [
        "!tar xf spark-3.5.5-bin-hadoop3.tgz"
      ],
      "metadata": {
        "id": "sHCzBkjd4thG"
      },
      "execution_count": 31,
      "outputs": []
    },
    {
      "cell_type": "code",
      "source": [
        "!pip install -q findspark"
      ],
      "metadata": {
        "id": "TzePEmfY4wM5"
      },
      "execution_count": 32,
      "outputs": []
    },
    {
      "cell_type": "code",
      "source": [
        "import os\n",
        "os.environ[\"JAVA_HOME\"] = \"/usr/lib/jvm/java-8-openjdk-amd64\"\n",
        "os.environ[\"SPARK_HOME\"] = \"/content/spark-3.5.5-bin-hadoop3\""
      ],
      "metadata": {
        "id": "v4VnxnI34yB-"
      },
      "execution_count": 33,
      "outputs": []
    },
    {
      "cell_type": "code",
      "source": [
        "import findspark\n",
        "findspark.init()"
      ],
      "metadata": {
        "id": "5jIhWgNp41iJ"
      },
      "execution_count": 34,
      "outputs": []
    },
    {
      "cell_type": "code",
      "source": [
        "findspark.find()"
      ],
      "metadata": {
        "colab": {
          "base_uri": "https://localhost:8080/",
          "height": 35
        },
        "id": "nR3USF1f44GB",
        "outputId": "ba740fcb-d770-40cb-f871-f00afa6e7f10"
      },
      "execution_count": 35,
      "outputs": [
        {
          "output_type": "execute_result",
          "data": {
            "text/plain": [
              "'/content/spark-3.5.5-bin-hadoop3'"
            ],
            "application/vnd.google.colaboratory.intrinsic+json": {
              "type": "string"
            }
          },
          "metadata": {},
          "execution_count": 35
        }
      ]
    },
    {
      "cell_type": "code",
      "source": [
        "from pyspark.sql import SparkSession\n",
        "\n",
        "spark = SparkSession.builder\\\n",
        "        .master(\"local\")\\\n",
        "        .appName(\"Pyspark_SQL\")\\\n",
        "        .config('spark.ui.port', '4050')\\\n",
        "        .getOrCreate()"
      ],
      "metadata": {
        "id": "DrS91jeCAOzV"
      },
      "execution_count": 36,
      "outputs": []
    },
    {
      "cell_type": "code",
      "source": [
        "spark"
      ],
      "metadata": {
        "colab": {
          "base_uri": "https://localhost:8080/",
          "height": 219
        },
        "id": "0X7EIPA3ilcX",
        "outputId": "a940f01f-52cc-4289-a182-dc742e4a6d9b"
      },
      "execution_count": 37,
      "outputs": [
        {
          "output_type": "execute_result",
          "data": {
            "text/plain": [
              "<pyspark.sql.session.SparkSession at 0x7b39aa01bf90>"
            ],
            "text/html": [
              "\n",
              "            <div>\n",
              "                <p><b>SparkSession - in-memory</b></p>\n",
              "                \n",
              "        <div>\n",
              "            <p><b>SparkContext</b></p>\n",
              "\n",
              "            <p><a href=\"http://d553fd1c4b93:4050\">Spark UI</a></p>\n",
              "\n",
              "            <dl>\n",
              "              <dt>Version</dt>\n",
              "                <dd><code>v3.5.5</code></dd>\n",
              "              <dt>Master</dt>\n",
              "                <dd><code>local</code></dd>\n",
              "              <dt>AppName</dt>\n",
              "                <dd><code>Pyspark_SQL</code></dd>\n",
              "            </dl>\n",
              "        </div>\n",
              "        \n",
              "            </div>\n",
              "        "
            ]
          },
          "metadata": {},
          "execution_count": 37
        }
      ]
    },
    {
      "cell_type": "markdown",
      "source": [
        "#IMPORTE DE LAS FUNCIONES NECESARIAS PARA REALIZAR LAS CONSULTAS"
      ],
      "metadata": {
        "id": "67q_E8mB6O8S"
      }
    },
    {
      "cell_type": "code",
      "source": [
        "from pyspark.sql.window import Window\n",
        "from pyspark.sql.functions import col, desc, row_number, avg"
      ],
      "metadata": {
        "id": "DY_tqJsdpmsB"
      },
      "execution_count": 38,
      "outputs": []
    },
    {
      "cell_type": "code",
      "source": [
        "import pandas as pd\n",
        "\n",
        "data_path = '/content/drive/MyDrive/BigData/Air_Traffic_Passenger_Statistics.csv'\n",
        "\n",
        "data = spark.read.options(inferSchema='True',delimiter=',', header=True).csv(data_path)\n",
        "data.take(3)"
      ],
      "metadata": {
        "colab": {
          "base_uri": "https://localhost:8080/"
        },
        "id": "2VHTlq20AbzV",
        "outputId": "1d2b5109-e04c-4dbd-9b9d-3b55e2536e76"
      },
      "execution_count": 39,
      "outputs": [
        {
          "output_type": "execute_result",
          "data": {
            "text/plain": [
              "[Row(Activity Period=200507, Operating Airline='ATA Airlines', Operating Airline IATA Code='TZ', Published Airline='ATA Airlines', Published Airline IATA Code='TZ', GEO Summary='Domestic', GEO Region='US', Activity Type Code='Deplaned', Price Category Code='Low Fare', Terminal='Terminal 1', Boarding Area='B', Passenger Count=27271, Adjusted Activity Type Code='Deplaned', Adjusted Passenger Count=27271, Year=2005, Month='July'),\n",
              " Row(Activity Period=200507, Operating Airline='ATA Airlines', Operating Airline IATA Code='TZ', Published Airline='ATA Airlines', Published Airline IATA Code='TZ', GEO Summary='Domestic', GEO Region='US', Activity Type Code='Enplaned', Price Category Code='Low Fare', Terminal='Terminal 1', Boarding Area='B', Passenger Count=29131, Adjusted Activity Type Code='Enplaned', Adjusted Passenger Count=29131, Year=2005, Month='July'),\n",
              " Row(Activity Period=200507, Operating Airline='ATA Airlines', Operating Airline IATA Code='TZ', Published Airline='ATA Airlines', Published Airline IATA Code='TZ', GEO Summary='Domestic', GEO Region='US', Activity Type Code='Thru / Transit', Price Category Code='Low Fare', Terminal='Terminal 1', Boarding Area='B', Passenger Count=5415, Adjusted Activity Type Code='Thru / Transit * 2', Adjusted Passenger Count=10830, Year=2005, Month='July')]"
            ]
          },
          "metadata": {},
          "execution_count": 39
        }
      ]
    },
    {
      "cell_type": "code",
      "source": [
        "data"
      ],
      "metadata": {
        "colab": {
          "base_uri": "https://localhost:8080/"
        },
        "id": "UsiaOxcwAhHo",
        "outputId": "c34b07c6-53d1-4f07-8af4-e67d29bceeab"
      },
      "execution_count": 40,
      "outputs": [
        {
          "output_type": "execute_result",
          "data": {
            "text/plain": [
              "DataFrame[Activity Period: int, Operating Airline: string, Operating Airline IATA Code: string, Published Airline: string, Published Airline IATA Code: string, GEO Summary: string, GEO Region: string, Activity Type Code: string, Price Category Code: string, Terminal: string, Boarding Area: string, Passenger Count: int, Adjusted Activity Type Code: string, Adjusted Passenger Count: int, Year: int, Month: string]"
            ]
          },
          "metadata": {},
          "execution_count": 40
        }
      ]
    },
    {
      "cell_type": "markdown",
      "source": [
        "#DESCRIPCIÓN DE LOS DATOS DEL FICHERO."
      ],
      "metadata": {
        "id": "R7GmC7BJ7hG9"
      }
    },
    {
      "cell_type": "code",
      "source": [
        "data.printSchema()"
      ],
      "metadata": {
        "colab": {
          "base_uri": "https://localhost:8080/"
        },
        "id": "YNVUuL5gJURo",
        "outputId": "0cc0552a-58e8-4fe8-a0c7-17e23f5443cd"
      },
      "execution_count": 41,
      "outputs": [
        {
          "output_type": "stream",
          "name": "stdout",
          "text": [
            "root\n",
            " |-- Activity Period: integer (nullable = true)\n",
            " |-- Operating Airline: string (nullable = true)\n",
            " |-- Operating Airline IATA Code: string (nullable = true)\n",
            " |-- Published Airline: string (nullable = true)\n",
            " |-- Published Airline IATA Code: string (nullable = true)\n",
            " |-- GEO Summary: string (nullable = true)\n",
            " |-- GEO Region: string (nullable = true)\n",
            " |-- Activity Type Code: string (nullable = true)\n",
            " |-- Price Category Code: string (nullable = true)\n",
            " |-- Terminal: string (nullable = true)\n",
            " |-- Boarding Area: string (nullable = true)\n",
            " |-- Passenger Count: integer (nullable = true)\n",
            " |-- Adjusted Activity Type Code: string (nullable = true)\n",
            " |-- Adjusted Passenger Count: integer (nullable = true)\n",
            " |-- Year: integer (nullable = true)\n",
            " |-- Month: string (nullable = true)\n",
            "\n"
          ]
        }
      ]
    },
    {
      "cell_type": "code",
      "source": [
        "data.show(10)"
      ],
      "metadata": {
        "colab": {
          "base_uri": "https://localhost:8080/"
        },
        "id": "L4n7eOkymE8U",
        "outputId": "c5a734e6-a557-41f9-9c11-ecdbc65ee76d"
      },
      "execution_count": 42,
      "outputs": [
        {
          "output_type": "stream",
          "name": "stdout",
          "text": [
            "+---------------+-----------------+---------------------------+-----------------+---------------------------+-------------+-------------------+------------------+-------------------+-------------+-------------+---------------+---------------------------+------------------------+----+-----+\n",
            "|Activity Period|Operating Airline|Operating Airline IATA Code|Published Airline|Published Airline IATA Code|  GEO Summary|         GEO Region|Activity Type Code|Price Category Code|     Terminal|Boarding Area|Passenger Count|Adjusted Activity Type Code|Adjusted Passenger Count|Year|Month|\n",
            "+---------------+-----------------+---------------------------+-----------------+---------------------------+-------------+-------------------+------------------+-------------------+-------------+-------------+---------------+---------------------------+------------------------+----+-----+\n",
            "|         200507|     ATA Airlines|                         TZ|     ATA Airlines|                         TZ|     Domestic|                 US|          Deplaned|           Low Fare|   Terminal 1|            B|          27271|                   Deplaned|                   27271|2005| July|\n",
            "|         200507|     ATA Airlines|                         TZ|     ATA Airlines|                         TZ|     Domestic|                 US|          Enplaned|           Low Fare|   Terminal 1|            B|          29131|                   Enplaned|                   29131|2005| July|\n",
            "|         200507|     ATA Airlines|                         TZ|     ATA Airlines|                         TZ|     Domestic|                 US|    Thru / Transit|           Low Fare|   Terminal 1|            B|           5415|         Thru / Transit * 2|                   10830|2005| July|\n",
            "|         200507|      Air Canada |                         AC|      Air Canada |                         AC|International|             Canada|          Deplaned|              Other|   Terminal 1|            B|          35156|                   Deplaned|                   35156|2005| July|\n",
            "|         200507|      Air Canada |                         AC|      Air Canada |                         AC|International|             Canada|          Enplaned|              Other|   Terminal 1|            B|          34090|                   Enplaned|                   34090|2005| July|\n",
            "|         200507|        Air China|                         CA|        Air China|                         CA|International|               Asia|          Deplaned|              Other|International|            G|           6263|                   Deplaned|                    6263|2005| July|\n",
            "|         200507|        Air China|                         CA|        Air China|                         CA|International|               Asia|          Enplaned|              Other|International|            G|           5500|                   Enplaned|                    5500|2005| July|\n",
            "|         200507|       Air France|                         AF|       Air France|                         AF|International|             Europe|          Deplaned|              Other|International|            A|          12050|                   Deplaned|                   12050|2005| July|\n",
            "|         200507|       Air France|                         AF|       Air France|                         AF|International|             Europe|          Enplaned|              Other|International|            A|          11638|                   Enplaned|                   11638|2005| July|\n",
            "|         200507|  Air New Zealand|                         NZ|  Air New Zealand|                         NZ|International|Australia / Oceania|          Deplaned|              Other|International|            G|           4998|                   Deplaned|                    4998|2005| July|\n",
            "+---------------+-----------------+---------------------------+-----------------+---------------------------+-------------+-------------------+------------------+-------------------+-------------+-------------+---------------+---------------------------+------------------------+----+-----+\n",
            "only showing top 10 rows\n",
            "\n"
          ]
        }
      ]
    },
    {
      "cell_type": "markdown",
      "source": [
        "# ¿Cuántas compañías diferentes aparecen en el fichero?"
      ],
      "metadata": {
        "id": "HW0-GjFL75tJ"
      }
    },
    {
      "cell_type": "code",
      "source": [
        "companydf = data.select('Operating Airline').distinct().count()\n",
        "print(\"Número de compañías diferentes: \", companydf)"
      ],
      "metadata": {
        "id": "EIIG-TKXj78i",
        "colab": {
          "base_uri": "https://localhost:8080/"
        },
        "outputId": "7a69dc18-cb06-48bd-ef12-b8066804679e"
      },
      "execution_count": 43,
      "outputs": [
        {
          "output_type": "stream",
          "name": "stdout",
          "text": [
            "Número de compañías diferentes:  77\n"
          ]
        }
      ]
    },
    {
      "cell_type": "markdown",
      "source": [
        "#¿Cuántos pasajeros tienen de media los vuelos de cada compañía?"
      ],
      "metadata": {
        "id": "alPzJjFP79lw"
      }
    },
    {
      "cell_type": "code",
      "source": [
        "avg_passengers_per_company = data.groupBy('Operating Airline').agg(avg('Passenger Count').alias(\"avg_passengers_count\"))\n",
        "avg_passengers_per_company.show()"
      ],
      "metadata": {
        "colab": {
          "base_uri": "https://localhost:8080/"
        },
        "id": "yKot3s50nwNn",
        "outputId": "dcdeb001-1edd-49b6-d2c2-aa55b7ba587d"
      },
      "execution_count": 44,
      "outputs": [
        {
          "output_type": "stream",
          "name": "stdout",
          "text": [
            "+--------------------+--------------------+\n",
            "|   Operating Airline|avg_passengers_count|\n",
            "+--------------------+--------------------+\n",
            "|          Icelandair|              2799.7|\n",
            "|         Ameriflight|                 5.0|\n",
            "|      Cathay Pacific|  17121.325581395347|\n",
            "|          Aeromexico|   5463.822222222222|\n",
            "|      Etihad Airways|   6476.088235294118|\n",
            "| Philippine Airlines|  10248.635658914729|\n",
            "|United Airlines -...|   48915.46750232126|\n",
            "|    Turkish Airlines|   8162.416666666667|\n",
            "| Swiss International|   6061.640287769784|\n",
            "|    Independence Air|              6391.3|\n",
            "|Miami Air Interna...|             107.375|\n",
            "|          Air France|  11589.077519379845|\n",
            "|      Japan Airlines|   6470.332046332046|\n",
            "|    Midwest Airlines|              3883.0|\n",
            "|      Atlas Air, Inc|                34.0|\n",
            "|    JetBlue Airways |   35261.13963963964|\n",
            "|       China Eastern|   5498.402777777777|\n",
            "|   Mexicana Airlines|   7993.806451612903|\n",
            "|         Air Canada |  18251.560109289618|\n",
            "|       Allegiant Air|           1516.8125|\n",
            "+--------------------+--------------------+\n",
            "only showing top 20 rows\n",
            "\n"
          ]
        }
      ]
    },
    {
      "cell_type": "markdown",
      "source": [
        "#Se eliminan los duplicados del fichero en el campo 'GEO region', manteniendo solamente los que tengan mayor número de pasajeros."
      ],
      "metadata": {
        "id": "ooGXpxbd8EdA"
      }
    },
    {
      "cell_type": "code",
      "source": [
        "window_spec = Window.partitionBy(\"Geo region\").orderBy(desc(\"Passenger Count\"))\n",
        "df_ranked = data.withColumn(\"rank\", row_number().over(window_spec))\n",
        "df_filtered = df_ranked.filter(col(\"rank\") == 1).drop(\"rank\")"
      ],
      "metadata": {
        "id": "uz9JBRBCv8si"
      },
      "execution_count": 51,
      "outputs": []
    },
    {
      "cell_type": "markdown",
      "source": [
        "#Unir la media de pasajeros al DataFrame original"
      ],
      "metadata": {
        "id": "pFNPq4nO_ob9"
      }
    },
    {
      "cell_type": "code",
      "source": [
        "df_final = df_filtered.join(avg_passengers_per_company, on=\"Operating Airline\", how=\"left\")"
      ],
      "metadata": {
        "id": "oF6WKS0C_m1k"
      },
      "execution_count": 52,
      "outputs": []
    },
    {
      "cell_type": "markdown",
      "source": [
        "#Guardar el resultado en un nuevo CSV"
      ],
      "metadata": {
        "id": "1Sw1UAPV_0p_"
      }
    },
    {
      "cell_type": "code",
      "source": [
        "df_final.write.option(\"header\", \"true\").mode(\"overwrite\").csv(\"resultado_final.csv\")\n",
        "\n",
        "df_final.show()"
      ],
      "metadata": {
        "id": "sfQUxz-7MuWh",
        "outputId": "068883eb-225f-4c9b-8170-9f49e29542b4",
        "colab": {
          "base_uri": "https://localhost:8080/"
        }
      },
      "execution_count": 55,
      "outputs": [
        {
          "output_type": "stream",
          "name": "stdout",
          "text": [
            "+--------------------+---------------+---------------------------+--------------------+---------------------------+-------------+-------------------+------------------+-------------------+-------------+-------------+---------------+---------------------------+------------------------+----+-------+--------------------+\n",
            "|   Operating Airline|Activity Period|Operating Airline IATA Code|   Published Airline|Published Airline IATA Code|  GEO Summary|         GEO Region|Activity Type Code|Price Category Code|     Terminal|Boarding Area|Passenger Count|Adjusted Activity Type Code|Adjusted Passenger Count|Year|  Month|avg_passengers_count|\n",
            "+--------------------+---------------+---------------------------+--------------------+---------------------------+-------------+-------------------+------------------+-------------------+-------------+-------------+---------------+---------------------------+------------------------+----+-------+--------------------+\n",
            "|United Airlines -...|         200708|                         UA|United Airlines -...|                         UA|International|               Asia|          Deplaned|              Other|International|            G|          86398|                   Deplaned|                   86398|2007| August|   48915.46750232126|\n",
            "|     Air New Zealand|         201501|                         NZ|     Air New Zealand|                         NZ|International|Australia / Oceania|          Enplaned|              Other|International|            G|          12973|                   Enplaned|                   12973|2015|January|   7452.339768339768|\n",
            "|         Air Canada |         200708|                         AC|         Air Canada |                         AC|International|             Canada|          Deplaned|              Other|   Terminal 3|            E|          39798|                   Deplaned|                   39798|2007| August|  18251.560109289618|\n",
            "|                TACA|         201410|                         TA|                TACA|                         TA|International|    Central America|          Deplaned|              Other|International|            A|           8970|                   Deplaned|                    8970|2014|October|   5066.197674418605|\n",
            "|     United Airlines|         201507|                         UA|     United Airlines|                         UA|International|             Europe|          Deplaned|              Other|International|            G|          48136|                   Deplaned|                   48136|2015|   July|   72732.05829596413|\n",
            "|     United Airlines|         201407|                         UA|     United Airlines|                         UA|International|             Mexico|          Deplaned|              Other|International|            G|          29206|                   Deplaned|                   29206|2014|   July|   72732.05829596413|\n",
            "|           Emirates |         201507|                         EK|           Emirates |                         EK|International|        Middle East|          Deplaned|              Other|International|            A|          14769|                   Deplaned|                   14769|2015|   July|   9070.866666666667|\n",
            "|            LAN Peru|         201101|                         LP|            LAN Peru|                         LP|International|      South America|          Deplaned|              Other|International|            A|           3685|                   Deplaned|                    3685|2011|January|   2786.011111111111|\n",
            "|     United Airlines|         201308|                         UA|     United Airlines|                         UA|     Domestic|                 US|          Deplaned|              Other|   Terminal 3|            F|         659837|                   Deplaned|                  659837|2013| August|   72732.05829596413|\n",
            "+--------------------+---------------+---------------------------+--------------------+---------------------------+-------------+-------------------+------------------+-------------------+-------------+-------------+---------------+---------------------------+------------------------+----+-------+--------------------+\n",
            "\n"
          ]
        }
      ]
    }
  ],
  "metadata": {
    "colab": {
      "name": "Un benvenuto a Colaboratory",
      "provenance": [],
      "include_colab_link": true
    },
    "kernelspec": {
      "display_name": "Python 3",
      "name": "python3"
    }
  },
  "nbformat": 4,
  "nbformat_minor": 0
}